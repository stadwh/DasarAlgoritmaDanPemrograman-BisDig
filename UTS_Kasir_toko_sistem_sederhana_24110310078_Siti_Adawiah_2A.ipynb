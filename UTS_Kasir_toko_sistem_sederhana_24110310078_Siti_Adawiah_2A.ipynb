{
  "nbformat": 4,
  "nbformat_minor": 0,
  "metadata": {
    "colab": {
      "provenance": []
    },
    "kernelspec": {
      "name": "python3",
      "display_name": "Python 3"
    },
    "language_info": {
      "name": "python"
    }
  },
  "cells": [
    {
      "cell_type": "code",
      "execution_count": null,
      "metadata": {
        "colab": {
          "base_uri": "https://localhost:8080/"
        },
        "id": "nVz_xgcbGmOL",
        "outputId": "5941360e-4a3f-4efe-fbcf-091b2fd34676"
      },
      "outputs": [
        {
          "output_type": "stream",
          "name": "stdout",
          "text": [
            "--- Hitung Total Harga Barang ---\n",
            "Masukkan harga barang ke-1: Rp35\n",
            "Masukkan harga barang ke-2: Rp40\n",
            "Masukkan harga barang ke-3: Rp45\n",
            "\n",
            "Total pembayaran: Rp120.00\n",
            "---------------------------------\n"
          ]
        }
      ],
      "source": [
        "# Program untuk menghitung total harga 3 barang\n",
        "\n",
        "print(\"--- Hitung Total Harga Barang ---\")\n",
        "\n",
        "# Meminta input harga barang dari pengguna dengan validasi\n",
        "try:\n",
        "    harga1_str = input(\"Masukkan harga barang ke-1: Rp\")\n",
        "    harga2_str = input(\"Masukkan harga barang ke-2: Rp\")\n",
        "    harga3_str = input(\"Masukkan harga barang ke-3: Rp\")\n",
        "\n",
        "    # Mengubah input string menjadi float\n",
        "    harga1 = float(harga1_str)\n",
        "    harga2 = float(harga2_str)\n",
        "    harga3 = float(harga3_str)\n",
        "\n",
        "    # Memastikan harga tidak negatif (opsional, tapi baik untuk validasi)\n",
        "    if harga1 < 0 or harga2 < 0 or harga3 < 0:\n",
        "        print(\"Harga barang tidak boleh negatif.\")\n",
        "    else:\n",
        "        # Menghitung total harga\n",
        "        total_harga = harga1 + harga2 + harga3\n",
        "\n",
        "        # Menampilkan total pembayaran\n",
        "        print(f\"\\nTotal pembayaran: Rp{total_harga:.2f}\")\n",
        "\n",
        "except ValueError:\n",
        "    print(\"Input tidak valid. Pastikan Anda memasukkan angka untuk harga.\")\n",
        "except Exception as e:\n",
        "    print(f\"Terjadi kesalahan: {e}\")\n",
        "\n",
        "print(\"---------------------------------\")"
      ]
    }
  ]
}