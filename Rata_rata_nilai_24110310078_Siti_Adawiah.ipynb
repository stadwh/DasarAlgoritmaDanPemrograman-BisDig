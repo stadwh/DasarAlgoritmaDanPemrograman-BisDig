{
  "nbformat": 4,
  "nbformat_minor": 0,
  "metadata": {
    "colab": {
      "provenance": []
    },
    "kernelspec": {
      "name": "python3",
      "display_name": "Python 3"
    },
    "language_info": {
      "name": "python"
    }
  },
  "cells": [
    {
      "cell_type": "code",
      "execution_count": 3,
      "metadata": {
        "colab": {
          "base_uri": "https://localhost:8080/"
        },
        "id": "nVz_xgcbGmOL",
        "outputId": "2085c2d2-8e99-4b4b-b0f2-2294fd67bde2"
      },
      "outputs": [
        {
          "output_type": "stream",
          "name": "stdout",
          "text": [
            "Masukkan nilai mata pelajaran 1: 70\n",
            "Masukkan nilai mata pelajaran 2: 75\n",
            "Masukkan nilai mata pelajaran 3: 80\n",
            "\n",
            "Rata-rata nilai: 75.00\n",
            "Status kelulusan: Lulus\n"
          ]
        }
      ],
      "source": [
        "# Program untuk menghitung rata-rata nilai ujian dan menentukan status kelulusan\n",
        "\n",
        "# Meminta input nilai dari pengguna\n",
        "try:\n",
        "    nilai1 = float(input(\"Masukkan nilai mata pelajaran 1: \"))\n",
        "    nilai2 = float(input(\"Masukkan nilai mata pelajaran 2: \"))\n",
        "    nilai3 = float(input(\"Masukkan nilai mata pelajaran 3: \"))\n",
        "\n",
        "    # Menghitung rata-rata\n",
        "    rata_rata = (nilai1 + nilai2 + nilai3) / 3\n",
        "\n",
        "    # Menentukan status kelulusan\n",
        "    if rata_rata >= 75:\n",
        "        status_kelulusan = \"Lulus\"\n",
        "    else:\n",
        "        status_kelulusan = \"Tidak Lulus\"\n",
        "\n",
        "    # Menampilkan hasil\n",
        "    print(f\"\\nRata-rata nilai: {rata_rata:.2f}\")\n",
        "    print(f\"Status kelulusan: {status_kelulusan}\")\n",
        "\n",
        "except ValueError:\n",
        "    print(\"Input tidak valid. Pastikan Anda memasukkan angka.\")"
      ]
    }
  ]
}