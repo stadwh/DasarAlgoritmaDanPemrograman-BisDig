{
  "nbformat": 4,
  "nbformat_minor": 0,
  "metadata": {
    "colab": {
      "provenance": []
    },
    "kernelspec": {
      "name": "python3",
      "display_name": "Python 3"
    },
    "language_info": {
      "name": "python"
    }
  },
  "cells": [
    {
      "cell_type": "code",
      "execution_count": 5,
      "metadata": {
        "colab": {
          "base_uri": "https://localhost:8080/"
        },
        "id": "nVz_xgcbGmOL",
        "outputId": "cd073954-633a-499f-858c-a1fde3295174"
      },
      "outputs": [
        {
          "output_type": "stream",
          "name": "stdout",
          "text": [
            "Masukkan angka non-negatif untuk dihitung faktorialnya: 7\n",
            "Faktorial dari 7 adalah 5040\n"
          ]
        }
      ],
      "source": [
        "# Program untuk menghitung faktorial menggunakan fungsi rekursif\n",
        "\n",
        "def factorial_recursive(n):\n",
        "  \"\"\"\n",
        "  Fungsi ini menghitung faktorial dari suatu bilangan menggunakan metode rekursif.\n",
        "\n",
        "  Args:\n",
        "    n: Bilangan yang akan dihitung faktorialnya (harus non-negatif).\n",
        "\n",
        "  Returns:\n",
        "    Faktorial dari bilangan n.\n",
        "  \"\"\"\n",
        "  # Basis Kasus: Jika n adalah 0, kembalikan 1\n",
        "  if n == 0:\n",
        "    return 1\n",
        "  # Langkah Rekursif: Jika n lebih besar dari 0, kembalikan n * faktorial(n-1)\n",
        "  else:\n",
        "    return n * factorial_recursive(n - 1)\n",
        "\n",
        "# Meminta input dari pengguna\n",
        "while True:\n",
        "    try:\n",
        "        num_str = input(\"Masukkan angka non-negatif untuk dihitung faktorialnya: \")\n",
        "        num = int(num_str)\n",
        "        if num >= 0:\n",
        "            break\n",
        "        else:\n",
        "            print(\"Masukkan angka non-negatif.\")\n",
        "    except ValueError:\n",
        "        print(\"Input tidak valid. Masukkan angka bulat.\")\n",
        "\n",
        "# Memanggil fungsi faktorial_recursive dan mencetak hasilnya\n",
        "# Menambahkan penanganan untuk input yang sangat besar yang dapat menyebabkan stack overflow\n",
        "try:\n",
        "    result = factorial_recursive(num)\n",
        "    print(f\"Faktorial dari {num} adalah {result}\")\n",
        "except RecursionError:\n",
        "    print(f\"Angka {num} terlalu besar untuk dihitung faktorialnya menggunakan rekursi.\")\n",
        "except Exception as e:\n",
        "    print(f\"Terjadi kesalahan: {e}\")"
      ]
    }
  ]
}