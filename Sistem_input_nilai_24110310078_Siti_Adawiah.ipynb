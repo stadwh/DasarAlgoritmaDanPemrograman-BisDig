{
  "nbformat": 4,
  "nbformat_minor": 0,
  "metadata": {
    "colab": {
      "provenance": []
    },
    "kernelspec": {
      "name": "python3",
      "display_name": "Python 3"
    },
    "language_info": {
      "name": "python"
    }
  },
  "cells": [
    {
      "cell_type": "code",
      "execution_count": 8,
      "metadata": {
        "colab": {
          "base_uri": "https://localhost:8080/"
        },
        "id": "nVz_xgcbGmOL",
        "outputId": "ae6c1484-07fe-456d-de2e-23c9c6185ae3"
      },
      "outputs": [
        {
          "output_type": "stream",
          "name": "stdout",
          "text": [
            "\n",
            "Masukkan data siswa ke-1:\n",
            "Nama: siti\n",
            "Nilai: 70\n",
            "\n",
            "Masukkan data siswa ke-2:\n",
            "Nama: adaw\n",
            "Nilai: 75\n",
            "\n",
            "Masukkan data siswa ke-3:\n",
            "Nama: wiah\n",
            "Nilai: 80\n",
            "\n",
            "Masukkan data siswa ke-4:\n",
            "Nama: adawiah\n",
            "Nilai: 85\n",
            "\n",
            "Masukkan data siswa ke-5:\n",
            "Nama: siti adawiah\n",
            "Nilai: 90\n",
            "\n",
            "--- Daftar Nilai Siswa ---\n",
            "siti: 70.0\n",
            "adaw: 75.0\n",
            "wiah: 80.0\n",
            "adawiah: 85.0\n",
            "siti adawiah: 90.0\n",
            "-------------------------\n",
            "\n",
            "Nilai tertinggi adalah: 90.0\n",
            "Diraih oleh siswa: siti adawiah (Siswa ke-5)\n"
          ]
        }
      ],
      "source": [
        "# Program untuk input nilai 5 siswa dan mencari nilai tertinggi\n",
        "\n",
        "# Membuat list kosong untuk menyimpan nama dan nilai siswa\n",
        "nama_siswa = []\n",
        "nilai_siswa = []\n",
        "\n",
        "# Menggunakan perulangan for untuk meminta input nama dan nilai dari 5 siswa\n",
        "jumlah_siswa = 5\n",
        "for i in range(jumlah_siswa):\n",
        "    print(f\"\\nMasukkan data siswa ke-{i+1}:\")\n",
        "\n",
        "    # Input nama siswa\n",
        "    nama = input(\"Nama: \")\n",
        "    nama_siswa.append(nama)\n",
        "\n",
        "    # Input nilai siswa dengan validasi\n",
        "    while True:\n",
        "        try:\n",
        "            nilai_str = input(\"Nilai: \")\n",
        "            nilai = float(nilai_str)\n",
        "            # Anda bisa menambahkan validasi rentang nilai di sini jika diperlukan (misal 0-100)\n",
        "            # if 0 <= nilai <= 100:\n",
        "            #     break\n",
        "            # else:\n",
        "            #     print(\"Nilai harus antara 0 dan 100.\")\n",
        "            break # Keluar dari loop validasi jika input valid\n",
        "        except ValueError:\n",
        "            print(\"Input tidak valid. Masukkan angka untuk nilai.\")\n",
        "\n",
        "    nilai_siswa.append(nilai)\n",
        "\n",
        "# Menampilkan daftar nama dan nilai siswa yang diinput (opsional)\n",
        "print(\"\\n--- Daftar Nilai Siswa ---\")\n",
        "for i in range(jumlah_siswa):\n",
        "    print(f\"{nama_siswa[i]}: {nilai_siswa[i]}\")\n",
        "print(\"-------------------------\")\n",
        "\n",
        "# Mencari nilai tertinggi dan indeksnya\n",
        "# Menggunakan fungsi max() untuk menemukan nilai tertinggi dalam list\n",
        "nilai_tertinggi = max(nilai_siswa)\n",
        "\n",
        "# Menggunakan metode index() untuk menemukan indeks dari nilai tertinggi\n",
        "indeks_tertinggi = nilai_siswa.index(nilai_tertinggi)\n",
        "\n",
        "# Mendapatkan nama siswa yang memiliki nilai tertinggi berdasarkan indeksnya\n",
        "siswa_tertinggi = nama_siswa[indeks_tertinggi]\n",
        "\n",
        "# Menampilkan hasil\n",
        "print(f\"\\nNilai tertinggi adalah: {nilai_tertinggi}\")\n",
        "print(f\"Diraih oleh siswa: {siswa_tertinggi} (Siswa ke-{indeks_tertinggi + 1})\")"
      ]
    }
  ]
}