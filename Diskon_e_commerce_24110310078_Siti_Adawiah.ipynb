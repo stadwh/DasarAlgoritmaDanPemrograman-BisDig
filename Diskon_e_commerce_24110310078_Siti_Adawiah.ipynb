{
  "nbformat": 4,
  "nbformat_minor": 0,
  "metadata": {
    "colab": {
      "provenance": []
    },
    "kernelspec": {
      "name": "python3",
      "display_name": "Python 3"
    },
    "language_info": {
      "name": "python"
    }
  },
  "cells": [
    {
      "cell_type": "code",
      "execution_count": 7,
      "metadata": {
        "colab": {
          "base_uri": "https://localhost:8080/"
        },
        "id": "nVz_xgcbGmOL",
        "outputId": "8ebb8775-5526-4119-d729-00f0f89ef960"
      },
      "outputs": [
        {
          "output_type": "stream",
          "name": "stdout",
          "text": [
            "Masukkan total belanja Anda (dalam Rupiah): Rp5000000\n",
            "\n",
            "Anda memenuhi syarat untuk diskon 10%.\n",
            "Besar diskon yang Anda terima: Rp500000.00\n",
            "Total bayar setelah diskon: Rp4500000.00\n"
          ]
        }
      ],
      "source": [
        "# Meminta input total belanja dari pengguna\n",
        "while True:\n",
        "    try:\n",
        "        total_belanja = float(input(\"Masukkan total belanja Anda (dalam Rupiah): Rp\"))\n",
        "        if total_belanja >= 0:\n",
        "            break\n",
        "        else:\n",
        "            print(\"Total belanja tidak boleh negatif.\")\n",
        "    except ValueError:\n",
        "        print(\"Input tidak valid. Masukkan angka yang benar.\")\n",
        "\n",
        "# Menetapkan batas diskon dan persentase diskon\n",
        "batas_diskon = 500000  # Belanja di atas Rp500.000\n",
        "persentase_diskon = 0.10 # Diskon 10%\n",
        "\n",
        "# Menggunakan struktur kontrol percabangan\n",
        "if total_belanja > batas_diskon:\n",
        "    # Hitung diskon\n",
        "    besar_diskon = total_belanja * persentase_diskon\n",
        "    # Hitung total bayar setelah diskon\n",
        "    total_bayar_setelah_diskon = total_belanja - besar_diskon\n",
        "    print(f\"\\nAnda memenuhi syarat untuk diskon 10%.\")\n",
        "    print(f\"Besar diskon yang Anda terima: Rp{besar_diskon:.2f}\")\n",
        "    print(f\"Total bayar setelah diskon: Rp{total_bayar_setelah_diskon:.2f}\")\n",
        "else:\n",
        "    # Tidak ada diskon\n",
        "    total_bayar = total_belanja\n",
        "    print(\"\\nAnda belum memenuhi syarat untuk diskon.\")\n",
        "    print(f\"Total bayar Anda: Rp{total_bayar:.2f}\")"
      ]
    }
  ]
}