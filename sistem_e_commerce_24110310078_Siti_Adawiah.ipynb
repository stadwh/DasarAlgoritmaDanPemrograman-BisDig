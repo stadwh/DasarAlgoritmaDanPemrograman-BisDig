{
  "nbformat": 4,
  "nbformat_minor": 0,
  "metadata": {
    "colab": {
      "provenance": []
    },
    "kernelspec": {
      "name": "python3",
      "display_name": "Python 3"
    },
    "language_info": {
      "name": "python"
    }
  },
  "cells": [
    {
      "cell_type": "code",
      "execution_count": 2,
      "metadata": {
        "colab": {
          "base_uri": "https://localhost:8080/"
        },
        "id": "nVz_xgcbGmOL",
        "outputId": "6e111267-7c47-4ad8-9ce3-fa82366111aa"
      },
      "outputs": [
        {
          "output_type": "stream",
          "name": "stdout",
          "text": [
            "Masukkan total belanja Anda: Rp5000000\n",
            "Selamat! Anda mendapatkan diskon 10%.\n",
            "Total bayar Anda: Rp4500000.00\n"
          ]
        }
      ],
      "source": [
        "# Program untuk menghitung total bayar setelah diskon\n",
        "\n",
        "def hitung_total_bayar(total_belanja):\n",
        "  \"\"\"\n",
        "  Fungsi ini menghitung total bayar setelah diskon.\n",
        "\n",
        "  Args:\n",
        "    total_belanja: Total belanja pelanggan.\n",
        "\n",
        "  Returns:\n",
        "    Total bayar setelah diskon.\n",
        "  \"\"\"\n",
        "  if total_belanja > 500000:\n",
        "    diskon = total_belanja * 0.1  # Diskon 10%\n",
        "    total_bayar = total_belanja - diskon\n",
        "    print(\"Selamat! Anda mendapatkan diskon 10%.\")\n",
        "  else:\n",
        "    total_bayar = total_belanja\n",
        "    print(\"Total belanja Anda belum memenuhi syarat diskon.\")\n",
        "  return total_bayar\n",
        "\n",
        "# Input data oleh pengguna\n",
        "while True:\n",
        "    try:\n",
        "        total_belanja = float(input(\"Masukkan total belanja Anda: Rp\"))\n",
        "        if total_belanja >= 0:\n",
        "            break\n",
        "        else:\n",
        "            print(\"Total belanja tidak boleh negatif. Silakan masukkan kembali.\")\n",
        "    except ValueError:\n",
        "        print(\"Input tidak valid. Silakan masukkan angka.\")\n",
        "\n",
        "# Hitung total bayar\n",
        "total_bayar = hitung_total_bayar(total_belanja)\n",
        "\n",
        "# Tampilkan total bayar\n",
        "print(f\"Total bayar Anda: Rp{total_bayar:.2f}\")"
      ]
    }
  ]
}